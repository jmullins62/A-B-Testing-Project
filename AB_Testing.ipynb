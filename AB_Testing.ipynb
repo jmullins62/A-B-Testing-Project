{
  "nbformat": 4,
  "nbformat_minor": 5,
  "metadata": {
    "noteable-chatgpt": {
      "create_notebook": {
        "openai_conversation_id": "2dadf184-d95d-5d67-939e-a458ef65f877",
        "openai_ephemeral_user_id": "1976e6f0-353c-59a1-ae60-04d7ab77b7e7",
        "openai_subdivision1_iso_code": "US-TX"
      }
    },
    "kernel_info": {
      "name": "python3"
    },
    "noteable": {
      "last_transaction_id": "d8a74fb1-fde4-4616-9017-48c5d9ff4dd5"
    },
    "kernelspec": {
      "display_name": "Python 3.9",
      "language": "python",
      "name": "python3"
    },
    "selected_hardware_size": "small"
  },
  "cells": [
    {
      "id": "14a0b9f7-4355-482d-96cf-3bbab426787d",
      "cell_type": "code",
      "metadata": {
        "jupyter": {
          "outputs_hidden": false,
          "source_hidden": false
        },
        "noteable": {
          "cell_type": "code"
        }
      },
      "execution_count": null,
      "source": "",
      "outputs": []
    },
    {
      "id": "e2e8131b-c594-4360-81ee-dee229596044",
      "cell_type": "markdown",
      "source": "# A/B Testing Project\n\n## Overview\nIn this project, we will design and analyze the results of an A/B test. The goal of A/B testing is to compare two versions (A and B) to determine which one performs better. It's a way to test changes to your webpage against the current design and determine which one produces better results.\n\n## Hypothesis\nWe hypothesize that changing the color of the 'Add to Cart' button from blue to green will lead to a higher conversion rate. The conversion rate is defined as the number of visitors who complete a desired action (in this case, clicking the 'Add to Cart' button) divided by the total number of visitors.\n\n## Experimental Setup\nWe will randomly assign visitors to two groups:\n\n- Group A: Visitors see the 'Add to Cart' button in blue (control group).\n- Group B: Visitors see the 'Add to Cart' button in green (experimental group).\n\nWe will then measure the conversion rate for each group.",
      "metadata": {
        "noteable": {
          "cell_type": "markdown"
        }
      }
    },
    {
      "id": "663b44c4-1b03-411c-ac05-35d5f34bcdbd",
      "cell_type": "code",
      "metadata": {
        "noteable": {
          "cell_type": "code",
          "output_collection_id": "911691d3-3063-4d23-b1b9-698041cacff2"
        },
        "ExecuteTime": {
          "end_time": "2023-07-27T20:49:50.463764+00:00",
          "start_time": "2023-07-27T20:49:50.032531+00:00"
        }
      },
      "execution_count": null,
      "source": "import numpy as np\nimport scipy.stats as stats\n\n# Set the seed for reproducibility\nnp.random.seed(42)\n\n# Simulate conversion rates for groups A and B\nconversion_rates = [0.12, 0.16]  # Conversion rates for A and B\ngroup_sizes = [1000, 1000]  # Number of visitors in groups A and B\n\n# Simulate visitors\ngroup_A = np.random.choice([0, 1], size=group_sizes[0], p=[1-conversion_rates[0], conversion_rates[0]])\ngroup_B = np.random.choice([0, 1], size=group_sizes[1], p=[1-conversion_rates[1], conversion_rates[1]])\n\n# Print the conversion rates\nprint('Conversion rate for group A:', group_A.mean())\nprint('Conversion rate for group B:', group_B.mean())",
      "outputs": []
    },
    {
      "id": "73a2dcf9-df04-4ed9-aa49-44cdd5ed69bb",
      "cell_type": "markdown",
      "source": "The conversion rates for groups A and B are approximately 0.124 and 0.163, respectively. This suggests that the green 'Add to Cart' button (group B) has a higher conversion rate than the blue 'Add to Cart' button (group A).\n\nHowever, we need to perform a statistical test to determine if this difference is statistically significant. We will use a two-proportion z-test for this purpose.",
      "metadata": {
        "noteable": {
          "cell_type": "markdown"
        }
      }
    },
    {
      "id": "3c8f4a52-f0b1-43cc-98fd-e9dbef0e3158",
      "cell_type": "code",
      "metadata": {
        "noteable": {
          "cell_type": "code",
          "output_collection_id": "7e9bbf08-40fe-483a-9646-14f800d5fd8c"
        },
        "ExecuteTime": {
          "end_time": "2023-07-27T20:50:31.150299+00:00",
          "start_time": "2023-07-27T20:50:30.407580+00:00"
        }
      },
      "execution_count": null,
      "source": "# Perform a two-proportion z-test\nz, p = stats.proportions_ztest([group_A.sum(), group_B.sum()], group_sizes)\n\n# Print the results\nprint('z-statistic:', z)\nprint('p-value:', p)",
      "outputs": []
    },
    {
      "id": "8ec91ea0-a593-47f6-93d1-736eafaa29d2",
      "cell_type": "code",
      "metadata": {
        "noteable": {
          "cell_type": "code",
          "output_collection_id": "63ba5787-e499-4c3c-8864-798de50b1399"
        },
        "ExecuteTime": {
          "end_time": "2023-07-27T20:50:59.428659+00:00",
          "start_time": "2023-07-27T20:50:54.599592+00:00"
        }
      },
      "execution_count": null,
      "source": "!pip install -q statsmodels",
      "outputs": []
    },
    {
      "id": "9dd596ba-c455-4fe6-bc33-143472ca3e7c",
      "cell_type": "code",
      "metadata": {
        "noteable": {
          "cell_type": "code",
          "output_collection_id": "51cf6524-553c-4627-924e-9c249e576ebf"
        },
        "ExecuteTime": {
          "end_time": "2023-07-27T20:51:21.206772+00:00",
          "start_time": "2023-07-27T20:51:20.771655+00:00"
        }
      },
      "execution_count": null,
      "source": "import statsmodels.api as sm\n\n# Perform a two-proportion z-test\nz, p = sm.stats.proportions_ztest([group_A.sum(), group_B.sum()], group_sizes)\n\n# Print the results\nprint('z-statistic:', z)\nprint('p-value:', p)",
      "outputs": []
    },
    {
      "id": "bdb6c44f-f625-4110-8a18-59e8ab9f31a6",
      "cell_type": "markdown",
      "source": "The z-statistic is approximately -2.49 and the p-value is approximately 0.013. Since the p-value is less than 0.05, we reject the null hypothesis that the conversion rates for groups A and B are the same. This suggests that the difference in conversion rates between the two groups is statistically significant.\n\nTherefore, we can conclude that changing the color of the 'Add to Cart' button from blue to green leads to a higher conversion rate.",
      "metadata": {
        "noteable": {
          "cell_type": "markdown"
        }
      }
    }
  ]
}