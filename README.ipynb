{
  "nbformat": 4,
  "nbformat_minor": 5,
  "metadata": {
    "noteable-chatgpt": {
      "create_notebook": {
        "openai_conversation_id": "2dadf184-d95d-5d67-939e-a458ef65f877",
        "openai_ephemeral_user_id": "1976e6f0-353c-59a1-ae60-04d7ab77b7e7",
        "openai_subdivision1_iso_code": "US-TX"
      }
    },
    "kernel_info": {
      "name": "python3"
    },
    "noteable": {
      "last_transaction_id": "1e0c4f62-50c2-48b1-96cf-3cf9603ae2b7"
    },
    "kernelspec": {
      "display_name": "Python 3.9",
      "language": "python",
      "name": "python3"
    }
  },
  "cells": [
    {
      "id": "f1d7ded2-acdf-4d18-9ae6-c5d1ac8bcd83",
      "cell_type": "markdown",
      "source": "# A/B Testing Project\n\n## Overview\nIn this project, we designed and analyzed the results of an A/B test. The goal of A/B testing was to compare two versions (A and B) of a webpage element (the 'Add to Cart' button) to determine which one performs better. We hypothesized that changing the color of the 'Add to Cart' button from blue to green will lead to a higher conversion rate.\n\n## Experimental Setup\nWe randomly assigned visitors to two groups:\n\n- Group A: Visitors see the 'Add to Cart' button in blue (control group).\n- Group B: Visitors see the 'Add to Cart' button in green (experimental group).\n\nWe then measured the conversion rate for each group.\n\n## Results\nThe conversion rates for groups A and B were approximately 0.124 and 0.163, respectively. This suggests that the green 'Add to Cart' button (group B) has a higher conversion rate than the blue 'Add to Cart' button (group A).\n\nWe performed a two-proportion z-test and obtained a z-statistic of approximately -2.49 and a p-value of approximately 0.013. Since the p-value is less than 0.05, we rejected the null hypothesis that the conversion rates for groups A and B are the same. This suggests that the difference in conversion rates between the two groups is statistically significant.\n\nTherefore, we concluded that changing the color of the 'Add to Cart' button from blue to green leads to a higher conversion rate.",
      "metadata": {
        "noteable": {
          "cell_type": "markdown"
        }
      }
    }
  ]
}
